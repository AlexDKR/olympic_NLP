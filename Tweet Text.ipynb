{
 "cells": [
  {
   "cell_type": "code",
   "execution_count": 720,
   "metadata": {
    "collapsed": true
   },
   "outputs": [],
   "source": [
    "import pandas as pd\n",
    "import numpy as np\n",
    "from sklearn.feature_extraction.text import CountVectorizer\n",
    "from sklearn.decomposition import TruncatedSVD, NMF\n",
    "from sklearn.feature_extraction.text import TfidfVectorizer \n",
    "from sklearn.feature_extraction.text import CountVectorizer \n",
    "from sklearn.preprocessing import Normalizer\n",
    "from sklearn import metrics\n",
    "from sklearn.cluster import KMeans, MiniBatchKMeans\n",
    "import matplotlib.pyplot as plt\n",
    "from gensim import corpora, models, similarities, matutils\n",
    "import nltk\n",
    "import re\n",
    "from pprint import pprint\n",
    "from textblob import TextBlob\n",
    "import matplotlib\n",
    "from nltk.corpus import stopwords\n",
    "import datetime\n",
    "from nltk.sentiment.vader import SentimentIntensityAnalyzer\n",
    "from sklearn.utils.extmath import randomized_svd\n",
    "import csv\n",
    "import seaborn as sns\n",
    "%matplotlib inline"
   ]
  },
  {
   "cell_type": "markdown",
   "metadata": {},
   "source": [
    "#### Time data for tweets"
   ]
  },
  {
   "cell_type": "code",
   "execution_count": 148,
   "metadata": {
    "collapsed": true
   },
   "outputs": [],
   "source": [
    "df_time = pd.read_pickle('tweet_time.pkl')"
   ]
  },
  {
   "cell_type": "code",
   "execution_count": 149,
   "metadata": {
    "collapsed": false
   },
   "outputs": [],
   "source": [
    "df_time = pd.concat([no_url_series, df_time.created_at], axis = 1, join = 'inner')"
   ]
  },
  {
   "cell_type": "code",
   "execution_count": 150,
   "metadata": {
    "collapsed": false
   },
   "outputs": [],
   "source": [
    "df_time.drop_duplicates(subset = 'text', inplace = True)"
   ]
  },
  {
   "cell_type": "code",
   "execution_count": 151,
   "metadata": {
    "collapsed": false
   },
   "outputs": [],
   "source": [
    "def change_time(time_item):\n",
    "    return datetime.datetime.strptime(time_item,'%a %b %d %H:%M:%S +0000 %Y')"
   ]
  },
  {
   "cell_type": "code",
   "execution_count": 154,
   "metadata": {
    "collapsed": false
   },
   "outputs": [],
   "source": [
    "df_time.created_at = df_time.created_at.apply(change_time)"
   ]
  },
  {
   "cell_type": "code",
   "execution_count": 292,
   "metadata": {
    "collapsed": true
   },
   "outputs": [],
   "source": [
    "df_time.reset_index(drop = True, inplace = True)"
   ]
  },
  {
   "cell_type": "code",
   "execution_count": 733,
   "metadata": {
    "collapsed": false
   },
   "outputs": [
    {
     "data": {
      "image/png": "[encoded data removed]",
      "text/plain": [
       "<matplotlib.figure.Figure at 0x2232bd8d0>"
      ]
     },
     "metadata": {},
     "output_type": "display_data"
    }
   ],
   "source": [
    "plt.figure(figsize = (12,6))\n",
    "df_time.created_at.hist(bins=80)\n",
    "plt.ylabel(\"Tweet Count\");"
   ]
  },
  {
   "cell_type": "code",
   "execution_count": 2,
   "metadata": {
    "collapsed": true
   },
   "outputs": [],
   "source": [
    "df = pd.read_pickle('tweet_text.pkl')"
   ]
  },
  {
   "cell_type": "markdown",
   "metadata": {},
   "source": [
    "#### Convert any url in the tweets to the word 'url' so it can be disregarded as part of the stop words"
   ]
  },
  {
   "cell_type": "code",
   "execution_count": 3,
   "metadata": {
    "collapsed": true
   },
   "outputs": [],
   "source": [
    "def convert_url(text):\n",
    "    replace_urls = re.compile(r\"http\\S+\")\n",
    "    return re.sub(replace_urls, 'url', text)"
   ]
  },
  {
   "cell_type": "code",
   "execution_count": 4,
   "metadata": {
    "collapsed": true
   },
   "outputs": [],
   "source": [
    "no_url_series = df.text.apply(convert_url)"
   ]
  },
  {
   "cell_type": "markdown",
   "metadata": {},
   "source": [
    "#### Only look at unique tweets. This might exempt legitimate tweets that happen to be the same. Could write custom function to remove only RTs that are identical"
   ]
  },
  {
   "cell_type": "code",
   "execution_count": 5,
   "metadata": {
    "collapsed": false
   },
   "outputs": [],
   "source": [
    "unique_tweets = no_url_series.unique()"
   ]
  },
  {
   "cell_type": "markdown",
   "metadata": {},
   "source": [
    "#### Using a pre-built tokenizer from the nltk package"
   ]
  },
  {
   "cell_type": "code",
   "execution_count": 10,
   "metadata": {
    "collapsed": true
   },
   "outputs": [],
   "source": [
    "tweet_token = nltk.tokenize.casual.TweetTokenizer(preserve_case = False)"
   ]
  },
  {
   "cell_type": "code",
   "execution_count": 11,
   "metadata": {
    "collapsed": true
   },
   "outputs": [],
   "source": [
    "def tokenized_string(text):\n",
    "    tokens = nltk.tokenize.casual.TweetTokenizer(preserve_case = False).tokenize(text)\n",
    "    return ' '.join(tokens)"
   ]
  },
  {
   "cell_type": "code",
   "execution_count": 12,
   "metadata": {
    "collapsed": false
   },
   "outputs": [],
   "source": [
    "token_tweets = list(map(tokenized_string, unique_tweets))"
   ]
  },
  {
   "cell_type": "code",
   "execution_count": 131,
   "metadata": {
    "collapsed": true
   },
   "outputs": [],
   "source": [
    "def replace_emojis(text):\n",
    "    no_emoji = text.replace(\"😂\", \"(':\").replace(\"😍\", \"love\").replace(\"😫\", \"):\").replace(\"💕\", \"love\").replace(\n",
    "        \"👏\",\"cheers\").replace(\"❤\", \"love\").replace(\"😭\", \")':\").replace(\"😢\", \")':\").replace(\"😔\", \"):\")\n",
    "    return no_emoji"
   ]
  },
  {
   "cell_type": "code",
   "execution_count": 132,
   "metadata": {
    "collapsed": true
   },
   "outputs": [],
   "source": [
    "token_no_emoji_tweets = list(map(replace_emojis, token_tweets))"
   ]
  },
  {
   "cell_type": "markdown",
   "metadata": {},
   "source": [
    "#### Our tokenizer is going to split apart punctuation (in an effort to classify emojis), so it is important to re-include punctuation as part of the stop words. Also exempting the search tags and 'rt' for 'retweet'."
   ]
  },
  {
   "cell_type": "code",
   "execution_count": 445,
   "metadata": {
    "collapsed": true
   },
   "outputs": [],
   "source": [
    "stops = stopwords.words('english') + ['olympics', '2016', 'rt', 'rio', 'rio2016', 'rio',\n",
    "                                      '#rio2016', \"#olympics\", '#RioOlympics2016', '.', ',', ':', ')', '(', '/',\n",
    "                                     '&', '=', '?', \"\\'\", '!', '-', '\\\"', '...', \"i'm\", \"it's\", \"<\", \">\", \"|\", 'url',\n",
    "                                     \"here's\"]"
   ]
  },
  {
   "cell_type": "markdown",
   "metadata": {},
   "source": [
    "####  Perform tfidf on words and bi-grams with a min_df of two. The token pattern works because we have already put a single space between all tokens."
   ]
  },
  {
   "cell_type": "code",
   "execution_count": 446,
   "metadata": {
    "collapsed": false
   },
   "outputs": [],
   "source": [
    "vectorizer = TfidfVectorizer(stop_words = stops, ngram_range=(1,2), min_df=2, token_pattern = r'\\S+')\n",
    "tfidf = vectorizer.fit_transform(token_no_emoji_tweets)"
   ]
  },
  {
   "cell_type": "markdown",
   "metadata": {},
   "source": [
    "####  Use a truncated SVD to get topics"
   ]
  },
  {
   "cell_type": "code",
   "execution_count": 447,
   "metadata": {
    "collapsed": false
   },
   "outputs": [],
   "source": [
    "lsa = TruncatedSVD(100, algorithm = 'randomized')\n",
    "dtm_lsa_unique = lsa.fit_transform(tfidf)\n",
    "dtm_lsa_unique = Normalizer(copy=False).fit_transform(dtm_lsa_unique)\n"
   ]
  },
  {
   "cell_type": "markdown",
   "metadata": {},
   "source": [
    "####  Scree Plot and Explained Variance Ratio show an elbow after around 15 dimensions"
   ]
  },
  {
   "cell_type": "code",
   "execution_count": 701,
   "metadata": {
    "collapsed": true
   },
   "outputs": [],
   "source": [
    "U, Sigma, VT = randomized_svd(tfidf, n_components=100,\n",
    "                                      n_iter=5)"
   ]
  },
  {
   "cell_type": "code",
   "execution_count": 729,
   "metadata": {
    "collapsed": false
   },
   "outputs": [
    {
     "data": {
      "image/png": "[encoded data removed]",
      "text/plain": [
       "<matplotlib.figure.Figure at 0x1a40e0198>"
      ]
     },
     "metadata": {},
     "output_type": "display_data"
    }
   ],
   "source": [
    "plt.figure(figsize = (10,6))\n",
    "plt.plot(Sigma, '.')\n",
    "plt.ylabel('Eigenvalues')\n",
    "plt.xlabel('Dimensions');"
   ]
  },
  {
   "cell_type": "code",
   "execution_count": 728,
   "metadata": {
    "collapsed": false
   },
   "outputs": [
    {
     "data": {
      "image/png": "[encoded data removed]",
      "text/plain": [
       "<matplotlib.figure.Figure at 0x1a14bfcf8>"
      ]
     },
     "metadata": {},
     "output_type": "display_data"
    }
   ],
   "source": [
    "plt.figure(figsize = (10,6))\n",
    "plt.plot(range(len(lsa.explained_variance_ratio_)), lsa.explained_variance_ratio_, '.')\n",
    "plt.ylabel('Explained Variance Ratio')\n",
    "plt.xlabel('Dimensions');\n"
   ]
  },
  {
   "cell_type": "markdown",
   "metadata": {},
   "source": [
    "#### Let's take a look at few tweets from a topic of our choosing"
   ]
  },
  {
   "cell_type": "code",
   "execution_count": 727,
   "metadata": {
    "collapsed": false
   },
   "outputs": [
    {
     "name": "stdout",
     "output_type": "stream",
     "text": [
      "array([ 'rt @handshakevanc : lochte allegedly made up robbery to cover up gas station fight . #nohonour #notruth #nohonesty url',\n",
      "       'url watch : ryan lochte gets no sympathetic ear from al roker . . . #olympics #rio2016 #ryanlochte',\n",
      "       'rt @dailymail : ryan lochte refuses to admit he made up #rio2016 robbery url url',\n",
      "       'rt @sportsbarker : url watch : ryan lochte gets no sympathetic ear from al roker . . . #olympics #rio2016 #ryanlochte',\n",
      "       'watch : ryan lochte rio gas station video url url',\n",
      "       'rt @bustedcoverage : watch the ryan lochte rio gas station video url url',\n",
      "       'watch the ryan lochte gas station security footage : url #rio2016 url',\n",
      "       'rt @usweekly : watch the ryan lochte gas station security footage : url #rio2016 url',\n",
      "       \"isn't every sponsor a proud sponsor of the olympics ? who are the ashamed sponsors ? besides those who signed ryan lochte , i mean .\",\n",
      "       \"i'm just a proud american in the fact that ryan lochte actually knew what country he was in #rio2016\"], \n",
      "      dtype='<U398')\n"
     ]
    }
   ],
   "source": [
    "topic_num = 25\n",
    "display_amount = 10\n",
    "pprint(np.array(token_no_emoji_tweets)[np.argsort(dtm_lsa_unique[:,topic_num])[-display_amount:]])"
   ]
  },
  {
   "cell_type": "code",
   "execution_count": 452,
   "metadata": {
    "collapsed": false
   },
   "outputs": [],
   "source": [
    "topic_df = pd.DataFrame(lsa.components_,columns = vectorizer.get_feature_names())"
   ]
  },
  {
   "cell_type": "markdown",
   "metadata": {},
   "source": [
    "####  What are some the most common words associated with the topics?"
   ]
  },
  {
   "cell_type": "code",
   "execution_count": 726,
   "metadata": {
    "collapsed": false
   },
   "outputs": [
    {
     "data": {
      "text/plain": [
       "closing             0.520883\n",
       "ceremony            0.506189\n",
       "closing ceremony    0.495127\n",
       "#closingceremony    0.098818\n",
       "love                0.091366\n",
       "watching            0.086401\n",
       "tokyo               0.085429\n",
       "mario               0.080807\n",
       "olympic             0.073642\n",
       "watch               0.071374\n",
       "Name: 0, dtype: float64"
      ]
     },
     "execution_count": 726,
     "metadata": {},
     "output_type": "execute_result"
    }
   ],
   "source": [
    "topic_num = 0\n",
    "display_amount = 10\n",
    "topic_df.iloc[topic_num,:].sort_values(ascending = False)[:display_amount]\n"
   ]
  },
  {
   "cell_type": "markdown",
   "metadata": {},
   "source": [
    "#### Another method of investigating the data is to see which topics most prominently features a particular keyword"
   ]
  },
  {
   "cell_type": "code",
   "execution_count": 700,
   "metadata": {
    "collapsed": false
   },
   "outputs": [
    {
     "data": {
      "text/plain": [
       "73    0.105795\n",
       "72    0.093060\n",
       "66    0.090191\n",
       "43    0.083099\n",
       "84    0.081610\n",
       "90    0.076310\n",
       "95    0.075939\n",
       "91    0.058858\n",
       "79    0.053934\n",
       "44    0.050140\n",
       "Name: basketball, dtype: float64"
      ]
     },
     "execution_count": 700,
     "metadata": {},
     "output_type": "execute_result"
    }
   ],
   "source": [
    "topic_df.loc[:,'basketball'].sort_values(ascending = False)[:10]"
   ]
  },
  {
   "cell_type": "markdown",
   "metadata": {},
   "source": [
    "#### Get the polarity values"
   ]
  },
  {
   "cell_type": "code",
   "execution_count": 41,
   "metadata": {
    "collapsed": true
   },
   "outputs": [],
   "source": [
    "sid = SentimentIntensityAnalyzer()"
   ]
  },
  {
   "cell_type": "code",
   "execution_count": 85,
   "metadata": {
    "collapsed": false
   },
   "outputs": [
    {
     "data": {
      "text/plain": [
       "{'compound': -0.4939, 'neg': 1.0, 'neu': 0.0, 'pos': 0.0}"
      ]
     },
     "execution_count": 85,
     "metadata": {},
     "output_type": "execute_result"
    }
   ],
   "source": [
    "sid.polarity_scores(\":'(\")"
   ]
  },
  {
   "cell_type": "code",
   "execution_count": 704,
   "metadata": {
    "collapsed": false
   },
   "outputs": [],
   "source": [
    "# This function creates a dictionary for each topic of the most prevalant keywords and the overall sentiment\n",
    "def sentiment_a(topic_df = topic_df, dtm_lsa = dtm_lsa_unique, tweets = token_no_emoji_tweets):\n",
    "    output = []\n",
    "    for topic in range(26):\n",
    "        # Get key words for each topic\n",
    "        top_topics = topic_df.iloc[topic,:].sort_values(ascending = False)[:10]\n",
    "        topic_names = top_topics.index.tolist()\n",
    "        topic_list = [topic_names[0].replace(\"(':\", \"😂\").replace(\")':\", \"😢\")]\n",
    "        for i in range(1,len(top_topics)):\n",
    "            if top_topics[i] >= 0.5*top_topics[0] and len(topic_list) < 3:\n",
    "                topic_to_add = topic_names[i].replace(\"(':\", \"😂\").replace(\")':\", \"😢\")\n",
    "                check = 'k'\n",
    "                for word in topic_to_add.split():\n",
    "                    if word in topic_list[0]:\n",
    "                        check = None\n",
    "                if check:\n",
    "                    topic_list.append(topic_to_add)\n",
    "            else:\n",
    "                break\n",
    "        # Get sentiment of top tweets in that topic\n",
    "        sia = SentimentIntensityAnalyzer()\n",
    "        indexes = np.argsort(dtm_lsa[:,topic])[-300:]\n",
    "        tweet_array = np.array(tweets)[indexes]\n",
    "        neg = []\n",
    "        pos = []\n",
    "        neut = []\n",
    "        for tweet in tweet_array:\n",
    "            sent_scores = sia.polarity_scores(tweet)\n",
    "            neg.append(sent_scores['neg'])\n",
    "            pos.append(sent_scores['pos'])\n",
    "            neut.append(sent_scores['neu'])\n",
    "        cum_sent = sum(neut)+sum(pos)+sum(neg)\n",
    "        output.append({\"Rank\": topic, \"Key Words in Topic\": topic_list, \"Positive\": round(100*sum(pos)/cum_sent, 1), \n",
    "                       \"Negative\": round(100*sum(neg)/cum_sent, 1), \"Neutral\": round(100*sum(neut)/cum_sent, 1)})\n",
    "    return output"
   ]
  },
  {
   "cell_type": "code",
   "execution_count": 705,
   "metadata": {
    "collapsed": false
   },
   "outputs": [],
   "source": [
    "totals = sentiment_a()"
   ]
  },
  {
   "cell_type": "code",
   "execution_count": 706,
   "metadata": {
    "collapsed": false
   },
   "outputs": [
    {
     "data": {
      "text/plain": [
       "{'Key Words in Topic': ['closing', 'ceremony'],\n",
       " 'Negative': 4.1,\n",
       " 'Neutral': 88.1,\n",
       " 'Positive': 7.8,\n",
       " 'Rank': 0}"
      ]
     },
     "execution_count": 706,
     "metadata": {},
     "output_type": "execute_result"
    }
   ],
   "source": [
    "totals[0]"
   ]
  },
  {
   "cell_type": "markdown",
   "metadata": {},
   "source": [
    "#### Create time intervals based on a given time step. Used for tracking topics over time"
   ]
  },
  {
   "cell_type": "code",
   "execution_count": 303,
   "metadata": {
    "collapsed": true
   },
   "outputs": [],
   "source": [
    "# Inputs are start time, end time, time range\n",
    "time_array = df_time.created_at"
   ]
  },
  {
   "cell_type": "code",
   "execution_count": 349,
   "metadata": {
    "collapsed": true
   },
   "outputs": [],
   "source": [
    "def get_start_stop_idx(start, stop, time_array = time_array, step = 10):\n",
    "    for i, time in enumerate(time_array):\n",
    "        if start < time:\n",
    "            if start_idx == None:\n",
    "                start_idx = i\n",
    "            if stop < time:\n",
    "                stop_idx = i -1\n",
    "                break\n",
    "    return start_idx, stop_idx\n"
   ]
  },
  {
   "cell_type": "code",
   "execution_count": 415,
   "metadata": {
    "collapsed": true
   },
   "outputs": [],
   "source": [
    "def get_buckets(start, stop, time_array = time_array, step = 10):\n",
    "    start_idxs = []\n",
    "    stop_idxs = []\n",
    "    start_times = []\n",
    "    for i, time in enumerate(time_array):\n",
    "        if start < time:\n",
    "            start_idxs.append(i)\n",
    "            start_times.append(start)\n",
    "            start += datetime.timedelta(minutes = step)\n",
    "            if stop < time:\n",
    "                stop_idxs.append(i-1)\n",
    "                break\n",
    "            if len(start_idxs) > 1:\n",
    "                stop_idxs.append(i-1)\n",
    "    return list(zip(start_idxs, stop_idxs)), start_times[:-1]"
   ]
  },
  {
   "cell_type": "code",
   "execution_count": 416,
   "metadata": {
    "collapsed": false
   },
   "outputs": [],
   "source": [
    "time_buckets, start_times = get_buckets(datetime.datetime(2016, 8, 21, 20, 50), datetime.datetime(2016, 8, 22, 11), \n",
    "                                     time_array)"
   ]
  },
  {
   "cell_type": "code",
   "execution_count": 627,
   "metadata": {
    "collapsed": false
   },
   "outputs": [
    {
     "name": "stderr",
     "output_type": "stream",
     "text": [
      "/Users/bholligan/anaconda/lib/python3.5/site-packages/numpy/core/_methods.py:59: RuntimeWarning: Mean of empty slice.\n",
      "  warnings.warn(\"Mean of empty slice.\", RuntimeWarning)\n"
     ]
    }
   ],
   "source": [
    "topic_avgs = np.array([np.mean(dtm_lsa_unique[time_buckets[0][0]:time_buckets[0][1],col]) for col in range(26)])\n",
    "for i, bucket in enumerate(time_buckets):\n",
    "    if i > 0:\n",
    "        topic_avgs = np.vstack((topic_avgs,\n",
    "                             np.array([np.mean(dtm_lsa_unique[bucket[0]:bucket[1],col]) for col in range(26)])))"
   ]
  },
  {
   "cell_type": "markdown",
   "metadata": {},
   "source": [
    "####  Remove nan rows"
   ]
  },
  {
   "cell_type": "code",
   "execution_count": 680,
   "metadata": {
    "collapsed": false
   },
   "outputs": [],
   "source": [
    "del_rows = [i for i, row in enumerate(topic_avgs) if np.isnan(row[0])]\n",
    "topic_avgs = np.delete(topic_avgs, del_rows, 0)\n",
    "ct = 0\n",
    "for row in del_rows:    \n",
    "    start_times.pop(row - ct)\n",
    "    ct =+ 1"
   ]
  },
  {
   "cell_type": "code",
   "execution_count": 621,
   "metadata": {
    "collapsed": false
   },
   "outputs": [
    {
     "name": "stdout",
     "output_type": "stream",
     "text": [
      "0 ['closing', 'ceremony']\n",
      "1 ['latest', 'thanks', 'daily']\n",
      "2 ['latest', 'thanks', 'daily']\n",
      "3 ['😂']\n",
      "4 ['😢']\n",
      "5 ['love']\n",
      "6 ['love', 'usa', 'team usa']\n",
      "7 ['tokyo', '2020', '#closingceremony']\n",
      "8 ['🇸', '🇺']\n",
      "9 ['well', 'done']\n",
      "10 ['#closingceremony', 'sad']\n",
      "11 ['sad']\n",
      "12 ['#closingceremony', 'medal', 'sad']\n",
      "13 ['cheers', '🇧', 'great']\n",
      "14 [\"can't\", 'medal', 'count']\n",
      "15 [\"can't\", 'wait', 'gold']\n",
      "16 ['watching']\n",
      "17 ['@olympics', '@louis_tomlinson']\n",
      "18 ['watch', 'cheers']\n",
      "19 ['watching', 'mario']\n",
      "20 ['🇧', '🇬', 'watch']\n",
      "21 ['watch', 'great']\n",
      "22 ['go', 'great']\n",
      "23 ['go', 'team']\n",
      "24 ['proud']\n",
      "25 ['proud', 'lochte', 'ryan']\n"
     ]
    }
   ],
   "source": [
    "for i, item in enumerate(totals):\n",
    "    print(i, item[\"Key Words in Topic\"])"
   ]
  },
  {
   "cell_type": "markdown",
   "metadata": {},
   "source": [
    "Interesting Comparisons\n",
    "- Laughing emoji vs. crying emoji [3 - 4]\n",
    "- 'Love' vs. 'Sad' [5 - 11]\n",
    "- 'Cheers' vs 'USA' [13 - 8]\n",
    "- 'Closing Ceremony' vs News Outlets [0 - 1]\n",
    "- 'Louis Tomlinson' Showing up early in the broadcast [17]\n",
    "- 'Tokyo' Announcement [7]\n",
    "- 'Well Done' is much more british [9]\n"
   ]
  },
  {
   "cell_type": "code",
   "execution_count": 724,
   "metadata": {
    "collapsed": false
   },
   "outputs": [
    {
     "data": {
      "text/plain": [
       "<matplotlib.legend.Legend at 0x1a2e66ac8>"
      ]
     },
     "execution_count": 724,
     "metadata": {},
     "output_type": "execute_result"
    },
    {
     "data": {
      "image/png": "[encoded data removed]",
      "text/plain": [
       "<matplotlib.figure.Figure at 0x2248cafd0>"
      ]
     },
     "metadata": {},
     "output_type": "display_data"
    }
   ],
   "source": [
    "p1 = 11\n",
    "p2 = 1\n",
    "fig, ax = plt.subplots(figsize = (10,6))\n",
    "ax.plot(start_times, topic_avgs[:,p1], '.', label = totals[p1][\"Key Words in Topic\"])\n",
    "ax.plot(start_times, topic_avgs[:,p2], '.', label = totals[p2][\"Key Words in Topic\"])\n",
    "fig.autofmt_xdate()\n",
    "plt.legend()\n"
   ]
  },
  {
   "cell_type": "code",
   "execution_count": 725,
   "metadata": {
    "collapsed": false
   },
   "outputs": [
    {
     "data": {
      "text/plain": [
       "[<matplotlib.lines.Line2D at 0x1a2df34e0>]"
      ]
     },
     "execution_count": 725,
     "metadata": {},
     "output_type": "execute_result"
    },
    {
     "data": {
      "image/png": "[encoded data removed]",
      "text/plain": [
       "<matplotlib.figure.Figure at 0x18686a1d0>"
      ]
     },
     "metadata": {},
     "output_type": "display_data"
    }
   ],
   "source": [
    "fig, ax = plt.subplots(figsize = (10,6))\n",
    "ax.plot(start_times, topic_avgs[:,17], '.')"
   ]
  },
  {
   "cell_type": "code",
   "execution_count": null,
   "metadata": {
    "collapsed": true
   },
   "outputs": [],
   "source": [
    "# Create a csv for d3. Column names on the header row. \n",
    "# Topics to use - 0, 1, 3, 4, 5, 7, 8, 9, 11, 13, 17\n",
    "# Time, Topic_Names, Pos Polarity, Neg Polarity, Neut Polarity\n",
    "# Start_times, topic_avgs, totals['key'], totals['pos'], totals['neg']\n",
    "\n",
    "# start_times is good\n",
    "# extand everything else except topic_avgs and zip them together"
   ]
  },
  {
   "cell_type": "code",
   "execution_count": 718,
   "metadata": {
    "collapsed": true
   },
   "outputs": [],
   "source": [
    "#CSV writer prep\n",
    "zip_list = []\n",
    "size = len(start_times)\n",
    "for t in [0, 1, 3, 4, 5, 7, 8, 9, 11, 13, 17, 25]:\n",
    "    zip_list.append(zip(start_times, topic_avgs[:,t], [\", \".join(totals[t][\"Key Words in Topic\"])]*size, \n",
    "                        [round(totals[t]['Positive'] - totals[t]['Negative'],1)]*size))"
   ]
  },
  {
   "cell_type": "code",
   "execution_count": 719,
   "metadata": {
    "collapsed": true
   },
   "outputs": [],
   "source": [
    "headers = ['Time', 'Topic_Relevance', 'Topic_Keywords', 'Polarity_Diff']\n",
    "\n",
    "with open('data_d3.csv', 'w', encoding = 'utf-8') as f:\n",
    "    writer = csv.writer(f)\n",
    "    writer.writerow(headers)\n",
    "    for topic in zip_list:\n",
    "        for row_times in topic:\n",
    "            writer.writerow(row_times)\n",
    "    "
   ]
  },
  {
   "cell_type": "code",
   "execution_count": null,
   "metadata": {
    "collapsed": true
   },
   "outputs": [],
   "source": []
  }
 ],
 "metadata": {
  "kernelspec": {
   "display_name": "Python 3",
   "language": "python",
   "name": "python3"
  },
  "language_info": {
   "codemirror_mode": {
    "name": "ipython",
    "version": 3
   },
   "file_extension": ".py",
   "mimetype": "text/x-python",
   "name": "python",
   "nbconvert_exporter": "python",
   "pygments_lexer": "ipython3",
   "version": "3.5.2"
  }
 },
 "nbformat": 4,
 "nbformat_minor": 0
}

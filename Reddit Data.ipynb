{
 "cells": [
  {
   "cell_type": "code",
   "execution_count": 63,
   "metadata": {
    "collapsed": true
   },
   "outputs": [],
   "source": [
    "import requests\n",
    "import praw\n"
   ]
  },
  {
   "cell_type": "code",
   "execution_count": 64,
   "metadata": {
    "collapsed": true
   },
   "outputs": [],
   "source": [
    "secret = \"DaVgDZM8Ngx5tbsch8mZBRCQG1s\"\n",
    "c_id = \"-3zpuPY1SRq50A\"\n"
   ]
  },
  {
   "cell_type": "code",
   "execution_count": 88,
   "metadata": {
    "collapsed": false
   },
   "outputs": [],
   "source": [
    "reddit = praw.Reddit(user_agent='olympic_sentiment_1.0 (by /u/bholligan)',\n",
    "                     client_id=c_id, client_secret=secret,\n",
    "                     username='bholligan', password= pw)\n"
   ]
  },
  {
   "cell_type": "code",
   "execution_count": 69,
   "metadata": {
    "collapsed": false
   },
   "outputs": [],
   "source": [
    "subreddit = reddit.subreddit('olympics')\n"
   ]
  },
  {
   "cell_type": "code",
   "execution_count": 79,
   "metadata": {
    "collapsed": false
   },
   "outputs": [],
   "source": [
    "comms = subreddit.comments()\n"
   ]
  },
  {
   "cell_type": "code",
   "execution_count": 80,
   "metadata": {
    "collapsed": false
   },
   "outputs": [],
   "source": [
    "c = []\n",
    "for a in comms:\n",
    "    c.append(a)\n",
    "    "
   ]
  },
  {
   "cell_type": "code",
   "execution_count": 94,
   "metadata": {
    "collapsed": false
   },
   "outputs": [
    {
     "data": {
      "text/plain": [
       "100"
      ]
     },
     "execution_count": 94,
     "metadata": {},
     "output_type": "execute_result"
    }
   ],
   "source": [
    "len(c)"
   ]
  },
  {
   "cell_type": "code",
   "execution_count": 85,
   "metadata": {
    "collapsed": false
   },
   "outputs": [
    {
     "data": {
      "text/plain": [
       "'As a Brit this makes me so happy. I love you, Anglosphere. <3'"
      ]
     },
     "execution_count": 85,
     "metadata": {},
     "output_type": "execute_result"
    }
   ],
   "source": [
    "c[0].body\n"
   ]
  },
  {
   "cell_type": "code",
   "execution_count": 90,
   "metadata": {
    "collapsed": false
   },
   "outputs": [
    {
     "data": {
      "text/plain": [
       "{'_fetched': False,\n",
       " '_reddit': <praw.reddit.Reddit at 0x1097bf438>,\n",
       " '_submission': None,\n",
       " 'approved_by': None,\n",
       " 'archived': False,\n",
       " 'author': Redditor(name='xaru1'),\n",
       " 'author_flair_css_class': None,\n",
       " 'author_flair_text': None,\n",
       " 'banned_by': None,\n",
       " 'body': 'As a Brit this makes me so happy. I love you, Anglosphere. <3',\n",
       " 'body_html': '<div class=\"md\"><p>As a Brit this makes me so happy. I love you, Anglosphere. &lt;3</p>\\n</div>',\n",
       " 'controversiality': 0,\n",
       " 'created': 1471448993.0,\n",
       " 'created_utc': 1471420193.0,\n",
       " 'distinguished': None,\n",
       " 'downs': 0,\n",
       " 'edited': False,\n",
       " 'gilded': 0,\n",
       " 'id': 'd6kvbev',\n",
       " 'likes': None,\n",
       " 'link_author': 'freakzilla149',\n",
       " 'link_id': 't3_4y26rt',\n",
       " 'link_title': 'Team GB second on total gold AND total medal count!',\n",
       " 'link_url': 'http://imgur.com/8OErgUp',\n",
       " 'mod_reports': [],\n",
       " 'name': 't1_d6kvbev',\n",
       " 'num_reports': None,\n",
       " 'over_18': False,\n",
       " 'parent_id': 't1_d6kpnwt',\n",
       " 'quarantine': False,\n",
       " 'removal_reason': None,\n",
       " 'replies': [],\n",
       " 'report_reasons': None,\n",
       " 'saved': False,\n",
       " 'score': 1,\n",
       " 'score_hidden': False,\n",
       " 'stickied': False,\n",
       " 'subreddit': Subreddit(display_name='olympics'),\n",
       " 'subreddit_id': 't5_21of',\n",
       " 'ups': 1,\n",
       " 'user_reports': []}"
      ]
     },
     "execution_count": 90,
     "metadata": {},
     "output_type": "execute_result"
    }
   ],
   "source": [
    "vars(c[0])\n"
   ]
  },
  {
   "cell_type": "code",
   "execution_count": null,
   "metadata": {
    "collapsed": true
   },
   "outputs": [],
   "source": []
  }
 ],
 "metadata": {
  "kernelspec": {
   "display_name": "Python 3",
   "language": "python",
   "name": "python3"
  },
  "language_info": {
   "codemirror_mode": {
    "name": "ipython",
    "version": 3
   },
   "file_extension": ".py",
   "mimetype": "text/x-python",
   "name": "python",
   "nbconvert_exporter": "python",
   "pygments_lexer": "ipython3",
   "version": "3.5.2"
  }
 },
 "nbformat": 4,
 "nbformat_minor": 0
}
